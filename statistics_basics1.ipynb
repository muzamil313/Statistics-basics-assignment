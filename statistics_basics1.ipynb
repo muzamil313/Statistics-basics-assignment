{
  "nbformat": 4,
  "nbformat_minor": 0,
  "metadata": {
    "colab": {
      "provenance": []
    },
    "kernelspec": {
      "name": "python3",
      "display_name": "Python 3"
    },
    "language_info": {
      "name": "python"
    }
  },
  "cells": [
    {
      "cell_type": "code",
      "execution_count": null,
      "metadata": {
        "id": "ESsZo0AMo4QH"
      },
      "outputs": [],
      "source": []
    },
    {
      "cell_type": "markdown",
      "source": [
        "\n",
        "Assignment statistics basics\n",
        "\n",
        "\n",
        "1.What is statistics, and why is it important?\n",
        "\n",
        "\n",
        ".Statistics is a branch of mathematics focused on collecting, organizing, analyzing, interpreting, and presenting data. It enables us to understand patterns, make informed decisions, and predict future trends based on data.\n",
        "\n",
        "2.What are the two main types of statistics?\n",
        "\n",
        ".The two types of statistics are Descriptive statistics and inferential statistics\n",
        "\n",
        "3.What are descriptive statistics?\n",
        "\n",
        ".Descriptive statistics provide tools to summarize, organize, and present data in a meaningful and digestible way—without making inferences beyond the dataset itself. They describe what the data shows, not why or what it predicts.\n",
        "Descriptive statistics include\n",
        "\n",
        ".Measures of central tendency ,Measures of dispersion and Distribution\n",
        "\n",
        "4.What is inferential statistics?\n",
        "\n",
        ".Inferential statistics is the branch of statistics that lets you draw conclusions about a larger population based on a smaller sample of data—using probability to figure out how reliable those conclusions are.\n",
        "\n",
        "5.What is sampling in statistics?\n",
        "\n",
        "Sampling in statistics is the process of selecting a subset (sample) of individuals or items from a larger population to study and draw conclusions about the whole. This is essential when surveying the entire population is impractical, expensive, or impossible.\n",
        "\n",
        "6.What are the different types of sampling methods?\n",
        "\n",
        ". The different types of samplings are\n",
        "Simple random sampling,Stratified sampling, cluster sampling, and systematic sampling.\n",
        "\n",
        "7.What is the difference between random and non-random sampling/\n",
        "\n",
        ".Random sampling: Every member of the population has a known, non-zero chance of being selected—each selection is based on chance, using methods like random numbers, systematic intervals, or stratified frames.\n",
        "\n",
        "Non-random sampling: Selections are made based on convenience, judgment, quotas, or referrals—not chance—so probabilities are unknown .\n",
        "\n",
        "8.Define and give examples of qualitative and quantitative data?\n",
        "\n",
        ".Qualitative data is Descriptive, non‑numeric information that captures qualities, categories, or themes. some examples of qualitative data are dogs , cats , fish , satisfaction level dissatisfaction level etc.\n",
        "\n",
        ".Quantitative data is  Numeric, measurable data that quantifies attributes—it addresses \"how many,\" \"how much,\" and supports statistical analysis  some examplews are No of students in class , weight, height etc.\n",
        "\n",
        "9.What are the different types of data in statistics?\n",
        "\n",
        ".The different types of data in statistics are Qualitative data and Quantitative data.\n",
        "\n",
        "10.Explain nominal, ordinal, interval, and ratio levels of measurement?\n",
        "\n",
        ". Nominal Places data into distinct categories without any order.It has no ranking or numeric meaning eg male , females ,blood groupetc\n",
        "\n",
        "Ordinal Categories with a meaningful order, but intervals between ranks are not equal or known. it is Rankable but cannot quantify differences.examples are satisfaction level, dissatifaction level,military ranks etc.\n",
        "\n",
        "\n",
        "Interval is  Numeric data with a consistent interval between values, but no true zero (zero is arbitrary). It Allows addition/subtraction; mean and standard deviation are meaningful.examples are Temperature in Celsius or Fahrenheit; calendar years; IQ scores etc.\n",
        "\n",
        "Ratio is Numeric data with equal intervals and a true zero—zero means “absence” of the attribute.It Supports full arithmetic (addition, subtraction, multiplication, division).examples are Weight in kg; height; age; income; length etc.\n",
        "\n",
        "11.What is the measure of central tendency?\n",
        "\n",
        ".A measure of central tendency is a single value that represents the center or \"typical\" point of a dataset—summarizing it in one number.\n",
        "\n",
        "\n",
        "12.Define mean, median, and mode?\n",
        "\n",
        ".The mean is the sum of all data values divided by the number of values. It provides the average of a dataset.\n",
        "\n",
        ".The median is the middle value when the data are arranged in order. If there's an even number of observations, it's the average of the two middle values.\n",
        "\n",
        ".Mode is the most frequently occurring value in a dataset.\n",
        "\n",
        "\n",
        "13.What is the signnificance of measures of central tendency?\n",
        "\n",
        ". The main significance of measures of central tendency is that is summarizes data for us. It measures condense large datasets into a single representative value, making complex data more understandable. For instance, calculating the average (mean) income of a population provides a quick snapshot of economic status without examining each individual's earning.\n",
        "\n",
        "14.What is variance, and how is it calculated?\n",
        "\n",
        ".Variance (typically denoted as σ² for population or s² for sample data) measures the spread or dispersion of values around their mean. It’s the average of the squared deviations from that mean—essentially, how “spread out” your data is.\n",
        "\n",
        "15.What is standard deviation, and why is it important?\n",
        "\n",
        ". Standard deviation (SD) quantifies how dispersed a dataset is around its mean. It’s simply the square root of the variance, which makes it share the same units as the data—unlike variance, which is in squared units.It is important because it us in interpteting  the data spread.\n",
        "\n",
        "16.Define and explain the term range in statistics?\n",
        "\n",
        ".The range is the simplest measure of statistical dispersion. It tells you how spread out your data is by calculating the difference between its maximum and minimum values.\n",
        "\n",
        "17.What is the difference between variance and standard deviation?\n",
        "\n",
        ". Variance is the average of the squared deviations from the mean.While as Standard Deviation (SD) is the square root of the variance.The main difference between them is variance represents the average of squared distances from the mean, while as standard deviation quantifies the average distance of values from the mean, in original units.\n",
        "\n",
        "18.What is skewness in a dataset?\n",
        "\n",
        ".The skewness describes how asymmetrical a dataset’s distribution is around its mean—whether one tail is stretched further than the other.\n",
        "\n",
        "19.What does it mean if a dataset is positively or negatively skewed?\n",
        "\n",
        ".Positive Skew (Right-Skewed)\n",
        "Tail extends to the right (higher values).\n",
        "\n",
        "Most data cluster on the left, with some high-value outliers pulling the tail rightward.\n",
        "\n",
        "The relationship typically is:\n",
        "Mean > Median > Mode\n",
        "\n",
        ".Negative Skew (Left-Skewed)\n",
        "Tail extends to the left (lower values).\n",
        "\n",
        "Most data cluster on the right, with some low-value outliers pulling the tail leftward.\n",
        "\n",
        "Relationship is typically:\n",
        "Mean < Median < Mode .\n",
        "\n",
        "20.Define and explain kurtosis?\n",
        "\n",
        ".Kurtosis measures the tailedness of a dataset’s distribution—how prominent or extreme the tails are compared to a normal curve—not the height of the peak.\n",
        "\n",
        "21.What is the purpose of covariance?\n",
        "\n",
        ". Covariance tells us whether two variables move together (positive), opposite each other (negative), or show no consistent linear trend (zero). It forms the foundation for correlation, multivariate statistics, and financial risk analysis.\n",
        "\n",
        "22.What does correlation measure in statistics?\n",
        "\n",
        ".Correlation measures the strength and direction of a linear relationship between two variables. Unlike covariance, it provides a standardized, unitless index that makes relationships easily interpretable.\n",
        "\n",
        "Positive correlation (+): As one variable increases, the other tends to increase.\n",
        "\n",
        "Negative correlation (–): As one variable increases, the other tends to decrease.\n",
        "\n",
        "Zero correlation: No consistent linear relationship.\n",
        "\n",
        "23.What is the difference between covariance and correlation?\n",
        "\n",
        ".Covariance shows whether two variables move in the same or opposite direction and by how much—but its magnitude is hard to compare or interpret across contexts while as\n",
        "\n",
        "Correlation provides a standardized, symmetric, and comparable measure of both strength and direction of a linear relationship.\n",
        "\n",
        "24.What are some real-world applications of statistics?\n",
        "\n",
        ". Realworld examples of statistics are weather, medical research,weather forecast and envirinmental science.\n",
        "\n",
        "\n",
        "\n",
        "\n",
        "\n"
      ],
      "metadata": {
        "id": "6I8snDLXpCrC"
      }
    },
    {
      "cell_type": "code",
      "source": [
        "#How do you calculate the mean, median,and mode of a dataset?\n",
        " import numpy as np\n",
        "\n",
        "age = [23,25,27,29,33,23,35]\n",
        "np.mean(age)\n",
        "\n",
        "\n"
      ],
      "metadata": {
        "colab": {
          "base_uri": "https://localhost:8080/"
        },
        "id": "Cl67ODZEbWCt",
        "outputId": "436fd913-44f5-42b5-8f8d-846b5643d4b9"
      },
      "execution_count": null,
      "outputs": [
        {
          "output_type": "stream",
          "name": "stdout",
          "text": [
            "Object `dataset` not found.\n"
          ]
        },
        {
          "output_type": "execute_result",
          "data": {
            "text/plain": [
              "np.float64(27.857142857142858)"
            ]
          },
          "metadata": {},
          "execution_count": 4
        }
      ]
    },
    {
      "cell_type": "code",
      "source": [
        "np.median(age)"
      ],
      "metadata": {
        "colab": {
          "base_uri": "https://localhost:8080/"
        },
        "id": "HHPzQratchec",
        "outputId": "3e21fbb2-f8b3-45a8-be91-bca1ad464770"
      },
      "execution_count": null,
      "outputs": [
        {
          "output_type": "execute_result",
          "data": {
            "text/plain": [
              "np.float64(27.0)"
            ]
          },
          "metadata": {},
          "execution_count": 5
        }
      ]
    },
    {
      "cell_type": "code",
      "source": [
        "#for mode\n",
        "import statistics\n",
        "statistics.mode(age)"
      ],
      "metadata": {
        "colab": {
          "base_uri": "https://localhost:8080/"
        },
        "id": "7m17oufAc3q3",
        "outputId": "28711c52-c183-4d1b-9a47-da7714f1bd36"
      },
      "execution_count": null,
      "outputs": [
        {
          "output_type": "execute_result",
          "data": {
            "text/plain": [
              "23"
            ]
          },
          "metadata": {},
          "execution_count": 6
        }
      ]
    },
    {
      "cell_type": "code",
      "source": [
        "#write a Python program to compute the variance and standard deviation of a dataset?\n",
        "\n",
        "data = [22,32,42,52,62,72]\n",
        "import numpy as np\n",
        "np.var(data)"
      ],
      "metadata": {
        "colab": {
          "base_uri": "https://localhost:8080/"
        },
        "id": "7Hm2S8GkeLDD",
        "outputId": "210d1a43-6d6a-4f68-fad0-221b432d4700"
      },
      "execution_count": null,
      "outputs": [
        {
          "output_type": "execute_result",
          "data": {
            "text/plain": [
              "np.float64(291.6666666666667)"
            ]
          },
          "metadata": {},
          "execution_count": 8
        }
      ]
    },
    {
      "cell_type": "code",
      "source": [
        "#create a dataset and classify it into nominal, ordinal, interval, and ratio types?\n",
        "import pandas as pd\n",
        "data = pd.DataFrame({\n",
        "    'Name': ['Alice', 'Bob', 'Charlie', 'David', 'Eve'],\n",
        "    'Age': [25, 30, 20, 35, 38],\n",
        "    'Salary': [50000, 60000, 45000, 7\n",
        "               0000, 80000],\n",
        "    'Department': ['HR', 'IT', 'Finance', 'IT', 'HR']\n",
        "})\n",
        "\n",
        "    '"
      ],
      "metadata": {
        "id": "EU-0Pm92eroO",
        "colab": {
          "base_uri": "https://localhost:8080/",
          "height": 106
        },
        "outputId": "260f8044-468a-4c40-b13f-d922d744bc93"
      },
      "execution_count": null,
      "outputs": [
        {
          "output_type": "error",
          "ename": "SyntaxError",
          "evalue": "unterminated string literal (detected at line 11) (ipython-input-2-685542824.py, line 11)",
          "traceback": [
            "\u001b[0;36m  File \u001b[0;32m\"/tmp/ipython-input-2-685542824.py\"\u001b[0;36m, line \u001b[0;32m11\u001b[0m\n\u001b[0;31m    '\u001b[0m\n\u001b[0m    ^\u001b[0m\n\u001b[0;31mSyntaxError\u001b[0m\u001b[0;31m:\u001b[0m unterminated string literal (detected at line 11)\n"
          ]
        }
      ]
    },
    {
      "cell_type": "code",
      "source": [
        "#Implement sampling techniques like random sampling and stratified sampling?\n",
        "import random\n",
        "data = [22,32,42,52,62,72]\n",
        "random.sample(data,3)\n",
        "\n",
        "\n",
        "\n"
      ],
      "metadata": {
        "id": "GLyVhac3f8dr",
        "colab": {
          "base_uri": "https://localhost:8080/"
        },
        "outputId": "5260d008-46d2-4b85-881f-a9aa1effacbd"
      },
      "execution_count": null,
      "outputs": [
        {
          "output_type": "execute_result",
          "data": {
            "text/plain": [
              "[42, 72, 22]"
            ]
          },
          "metadata": {},
          "execution_count": 1
        }
      ]
    },
    {
      "cell_type": "code",
      "source": [
        "#Write a Python function to calculate the range of a dataset?\n",
        "\n",
        "data = [22,23,24,25,26,27]\n",
        "max(data) - min(data)"
      ],
      "metadata": {
        "colab": {
          "base_uri": "https://localhost:8080/"
        },
        "id": "fyvlTH7agcT7",
        "outputId": "55e942d4-8206-4f4f-c388-de6c0ca8764b"
      },
      "execution_count": null,
      "outputs": [
        {
          "output_type": "execute_result",
          "data": {
            "text/plain": [
              "5"
            ]
          },
          "metadata": {},
          "execution_count": 9
        }
      ]
    },
    {
      "cell_type": "code",
      "source": [
        "#Create a dataset and plot its histogram to visualize skewness?\n",
        "\n",
        "data = [22,23,24,25,26,27]\n",
        "import matplotlib.pyplot as plt\n",
        "plt.hist(data)\n",
        "plt.show()"
      ],
      "metadata": {
        "colab": {
          "base_uri": "https://localhost:8080/",
          "height": 447
        },
        "id": "GS_NhPpRhycI",
        "outputId": "4f035fa8-41e6-44eb-9db8-5b415fc0b731"
      },
      "execution_count": null,
      "outputs": [
        {
          "output_type": "stream",
          "name": "stdout",
          "text": [
            "Object `skewness` not found.\n"
          ]
        },
        {
          "output_type": "display_data",
          "data": {
            "text/plain": [
              "<Figure size 640x480 with 1 Axes>"
            ],
            "image/png": "[encoded data removed]"
          },
          "metadata": {}
        }
      ]
    },
    {
      "cell_type": "code",
      "source": [
        "#calculate skewness and kurtosis of a dataset using Python libraries?\n",
        "\n",
        "from scipy import stats\n",
        "import numpy as np\n",
        "data = [22,33,43,53,63,73]\n",
        "stats.skew(data)"
      ],
      "metadata": {
        "colab": {
          "base_uri": "https://localhost:8080/"
        },
        "id": "leW5MTBFiFck",
        "outputId": "abdc1b77-c533-4c7b-a897-ba9cf363dac2"
      },
      "execution_count": null,
      "outputs": [
        {
          "output_type": "stream",
          "name": "stdout",
          "text": [
            "Object `libraries` not found.\n"
          ]
        },
        {
          "output_type": "execute_result",
          "data": {
            "text/plain": [
              "np.float64(-0.033673198283714685)"
            ]
          },
          "metadata": {},
          "execution_count": 13
        }
      ]
    },
    {
      "cell_type": "code",
      "source": [
        "#Generate a dataset and demonstrate positive and negative skewness?\n",
        "data = [22,33,43,53,63,73]\n",
        "stats.skew(data)\n"
      ],
      "metadata": {
        "colab": {
          "base_uri": "https://localhost:8080/"
        },
        "id": "Hxmaa8L3kWMG",
        "outputId": "054e3641-b598-4653-db5b-1fdfaaa4663c"
      },
      "execution_count": null,
      "outputs": [
        {
          "output_type": "stream",
          "name": "stdout",
          "text": [
            "Object `skewness` not found.\n"
          ]
        },
        {
          "output_type": "execute_result",
          "data": {
            "text/plain": [
              "np.float64(-0.033673198283714685)"
            ]
          },
          "metadata": {},
          "execution_count": 15
        }
      ]
    },
    {
      "cell_type": "code",
      "source": [
        "#Write a Python script to calculate covariance between two datasets?\n",
        "data1 = [22,33,43,53,63,73]\n",
        "data2 = [22,33,43,53,63,73]\n",
        "np.cov(data1,data2)"
      ],
      "metadata": {
        "colab": {
          "base_uri": "https://localhost:8080/"
        },
        "id": "-ZJ3cRgxnKFB",
        "outputId": "5785575b-c45a-4b3b-ae1e-e022cb874e75"
      },
      "execution_count": null,
      "outputs": [
        {
          "output_type": "execute_result",
          "data": {
            "text/plain": [
              "array([[360.16666667, 360.16666667],\n",
              "       [360.16666667, 360.16666667]])"
            ]
          },
          "metadata": {},
          "execution_count": 18
        }
      ]
    },
    {
      "cell_type": "code",
      "source": [
        "# Write a Python script to calculate the correlation coefficient between two datasets\n",
        "data1 = [22,33,43,53,63,73]\n",
        "data2 = [52,52,76,98,56,27]\n",
        "np.corrcoef(data1,data2)"
      ],
      "metadata": {
        "colab": {
          "base_uri": "https://localhost:8080/"
        },
        "id": "mnSEysejpFEK",
        "outputId": "4f7dd088-349f-41e5-ae1e-b8b6d0dfcb1a"
      },
      "execution_count": null,
      "outputs": [
        {
          "output_type": "execute_result",
          "data": {
            "text/plain": [
              "array([[ 1.        , -0.19443082],\n",
              "       [-0.19443082,  1.        ]])"
            ]
          },
          "metadata": {},
          "execution_count": 19
        }
      ]
    },
    {
      "cell_type": "code",
      "source": [
        "#Create a scatter plot to visualize the relationship between two variables?\n",
        "import matplotlib.pyplot as plt\n",
        "x = [22,33,43,53,63,73]\n",
        "y = [52,52,76,98,56,27]\n",
        "plt.scatter(x,y)\n",
        "\n",
        "\n"
      ],
      "metadata": {
        "colab": {
          "base_uri": "https://localhost:8080/",
          "height": 447
        },
        "id": "pmuX72u4pSsQ",
        "outputId": "60babb34-adeb-43b5-880c-6dcef4496638"
      },
      "execution_count": null,
      "outputs": [
        {
          "output_type": "execute_result",
          "data": {
            "text/plain": [
              "<matplotlib.collections.PathCollection at 0x786d329cd4d0>"
            ]
          },
          "metadata": {},
          "execution_count": 21
        },
        {
          "output_type": "display_data",
          "data": {
            "text/plain": [
              "<Figure size 640x480 with 1 Axes>"
            ],
            "image/png": "[encoded data removed]"
          },
          "metadata": {}
        }
      ]
    },
    {
      "cell_type": "code",
      "source": [
        "# Implement and compare simple random sampling and systematic sampling?\n",
        "import random\n",
        "data = [22,33,43,53,63,73]\n",
        "random.sample(data,3)\n"
      ],
      "metadata": {
        "colab": {
          "base_uri": "https://localhost:8080/"
        },
        "id": "Fk1yUGMHpke2",
        "outputId": "dd78d53b-bf07-45ea-ac87-d5daf0d2091d"
      },
      "execution_count": null,
      "outputs": [
        {
          "output_type": "execute_result",
          "data": {
            "text/plain": [
              "[33, 22, 53]"
            ]
          },
          "metadata": {},
          "execution_count": 50
        }
      ]
    },
    {
      "cell_type": "code",
      "source": [
        "#Calculate the mean, median, and mode of grouped data?\n",
        "import numpy as np\n",
        "students_age = [23,25,27,29,33,23,35,23,23,43,45,27,27,60]\n",
        "np.mean(students_age)"
      ],
      "metadata": {
        "colab": {
          "base_uri": "https://localhost:8080/"
        },
        "id": "m9_u3VBjqy1g",
        "outputId": "8f493d09-9c9f-4566-ea0d-061fbd03d310"
      },
      "execution_count": null,
      "outputs": [
        {
          "output_type": "execute_result",
          "data": {
            "text/plain": [
              "np.float64(31.642857142857142)"
            ]
          },
          "metadata": {},
          "execution_count": 28
        }
      ]
    },
    {
      "cell_type": "code",
      "source": [
        "np.median(students_age)"
      ],
      "metadata": {
        "colab": {
          "base_uri": "https://localhost:8080/"
        },
        "id": "T97AikAqsC7I",
        "outputId": "1e6d5b84-56d0-4b2e-ea3a-e1653fa53e20"
      },
      "execution_count": null,
      "outputs": [
        {
          "output_type": "execute_result",
          "data": {
            "text/plain": [
              "np.float64(27.0)"
            ]
          },
          "metadata": {},
          "execution_count": 29
        }
      ]
    },
    {
      "cell_type": "code",
      "source": [
        "import statistics\n",
        "statistics.mode(students_age)\n"
      ],
      "metadata": {
        "colab": {
          "base_uri": "https://localhost:8080/"
        },
        "id": "I_xy1gqptEs1",
        "outputId": "0e217101-bc22-4a14-ad92-570c3c27a7a3"
      },
      "execution_count": null,
      "outputs": [
        {
          "output_type": "execute_result",
          "data": {
            "text/plain": [
              "23"
            ]
          },
          "metadata": {},
          "execution_count": 30
        }
      ]
    },
    {
      "cell_type": "code",
      "source": [
        "# Simulate data using Python and calculate its central tendency and dispersion.\n",
        "\n",
        "import statistics as st\n",
        "data = [2, 4, 4, 4, 5, 5, 7, 9]\n",
        "st.mean(data)"
      ],
      "metadata": {
        "colab": {
          "base_uri": "https://localhost:8080/"
        },
        "id": "UoI6VmTttk8o",
        "outputId": "4c3a8911-50b3-46a3-9b9e-a8c8895ff0a9"
      },
      "execution_count": null,
      "outputs": [
        {
          "output_type": "execute_result",
          "data": {
            "text/plain": [
              "5"
            ]
          },
          "metadata": {},
          "execution_count": 31
        }
      ]
    },
    {
      "cell_type": "code",
      "source": [
        "st.median(data)"
      ],
      "metadata": {
        "colab": {
          "base_uri": "https://localhost:8080/"
        },
        "id": "7pqWWrowx9xf",
        "outputId": "e67124ae-94ff-49a4-c24c-d6f7194d8b3f"
      },
      "execution_count": null,
      "outputs": [
        {
          "output_type": "execute_result",
          "data": {
            "text/plain": [
              "4.5"
            ]
          },
          "metadata": {},
          "execution_count": 32
        }
      ]
    },
    {
      "cell_type": "code",
      "source": [
        "st.mode(data)"
      ],
      "metadata": {
        "colab": {
          "base_uri": "https://localhost:8080/"
        },
        "id": "YUo8iZc-yDRE",
        "outputId": "c4c6b4f5-68db-41e4-dd2e-8d2ed30ad6da"
      },
      "execution_count": null,
      "outputs": [
        {
          "output_type": "execute_result",
          "data": {
            "text/plain": [
              "4"
            ]
          },
          "metadata": {},
          "execution_count": 33
        }
      ]
    },
    {
      "cell_type": "code",
      "source": [
        "st.pvariance(data)"
      ],
      "metadata": {
        "colab": {
          "base_uri": "https://localhost:8080/"
        },
        "id": "Wlffg6PGyGpr",
        "outputId": "875a9d3e-c465-46ea-c3d5-2c89d98b79ed"
      },
      "execution_count": null,
      "outputs": [
        {
          "output_type": "execute_result",
          "data": {
            "text/plain": [
              "4"
            ]
          },
          "metadata": {},
          "execution_count": 34
        }
      ]
    },
    {
      "cell_type": "code",
      "source": [
        "st.pstdev(data)"
      ],
      "metadata": {
        "colab": {
          "base_uri": "https://localhost:8080/"
        },
        "id": "vuu3NPk6yJt9",
        "outputId": "5258631f-29a1-461a-d64c-436d3b18a6fe"
      },
      "execution_count": null,
      "outputs": [
        {
          "output_type": "execute_result",
          "data": {
            "text/plain": [
              "2.0"
            ]
          },
          "metadata": {},
          "execution_count": 35
        }
      ]
    },
    {
      "cell_type": "code",
      "source": [
        "st.variance(data)"
      ],
      "metadata": {
        "colab": {
          "base_uri": "https://localhost:8080/"
        },
        "id": "C7p7T0-7yPk5",
        "outputId": "16c0a58e-a4a9-48cb-8994-ca0a13a280f8"
      },
      "execution_count": null,
      "outputs": [
        {
          "output_type": "execute_result",
          "data": {
            "text/plain": [
              "4.571428571428571"
            ]
          },
          "metadata": {},
          "execution_count": 36
        }
      ]
    },
    {
      "cell_type": "code",
      "source": [
        "#Use NumPy or pandas to summarize a dataset’s descriptive statistics>\n",
        "import pandas as pd\n",
        "from scipy import stats\n",
        "\n",
        "df = pd.DataFrame({\n",
        "    'Age': [25, 30, 20, 35, 38],\n",
        "    'Height': [5.5, 6.2, 5.0, 4.9, 5.9]\n",
        "})\n",
        "summary = df.describe()\n",
        "print(summary)"
      ],
      "metadata": {
        "colab": {
          "base_uri": "https://localhost:8080/"
        },
        "id": "ej2mg3OxyTHE",
        "outputId": "c70418b5-c451-45ad-aaa6-4fd9a9f10d40"
      },
      "execution_count": null,
      "outputs": [
        {
          "output_type": "stream",
          "name": "stdout",
          "text": [
            "             Age    Height\n",
            "count   5.000000  5.000000\n",
            "mean   29.600000  5.500000\n",
            "std     7.300685  0.561249\n",
            "min    20.000000  4.900000\n",
            "25%    25.000000  5.000000\n",
            "50%    30.000000  5.500000\n",
            "75%    35.000000  5.900000\n",
            "max    38.000000  6.200000\n"
          ]
        }
      ]
    },
    {
      "cell_type": "code",
      "source": [
        "#Plot a boxplot to understand the spread and identify outliers>\n",
        "import matplotlib.pyplot as plt\n",
        "data = [25, 30, 20, 35, 38]\n",
        "plt.boxplot(data)\n",
        "plt.show()"
      ],
      "metadata": {
        "colab": {
          "base_uri": "https://localhost:8080/",
          "height": 430
        },
        "id": "Juk-_9vczNWJ",
        "outputId": "0ef03f89-67b9-465f-d737-890296c918e0"
      },
      "execution_count": null,
      "outputs": [
        {
          "output_type": "display_data",
          "data": {
            "text/plain": [
              "<Figure size 640x480 with 1 Axes>"
            ],
            "image/png": "[encoded data removed]"
          },
          "metadata": {}
        }
      ]
    },
    {
      "cell_type": "code",
      "source": [
        "#Calculate the interquartile range (IQR) of a dataset\n",
        "import numpy as np\n",
        "data = [25, 30, 20, 35, 38]\n",
        "q1 = np.percentile(data, 25)\n",
        "q3 = np.percentile(data, 75)\n",
        "iqr = q3 - q1\n",
        "print(iqr)\n"
      ],
      "metadata": {
        "colab": {
          "base_uri": "https://localhost:8080/"
        },
        "id": "nqrzP6uEzYgY",
        "outputId": "458bcc17-f339-41e2-9cb8-57159651f6bd"
      },
      "execution_count": null,
      "outputs": [
        {
          "output_type": "stream",
          "name": "stdout",
          "text": [
            "10.0\n"
          ]
        }
      ]
    },
    {
      "cell_type": "code",
      "source": [
        "#> Implement Z-score normalization and explain its significance?\n",
        "import numpy as np\n",
        "data = [25, 30, 20, 35, 38]\n",
        "mean = np.mean(data)\n",
        "std = np.std(data)\n",
        "normalized_data = [(x - mean) / std for x in data]\n",
        "print(normalized_data)\n"
      ],
      "metadata": {
        "colab": {
          "base_uri": "https://localhost:8080/"
        },
        "id": "oTy6uHfuzrqY",
        "outputId": "a94299ef-5d79-4ff0-b65d-6272d2040037"
      },
      "execution_count": null,
      "outputs": [
        {
          "output_type": "stream",
          "name": "stdout",
          "text": [
            "[np.float64(-0.7044484756064424), np.float64(0.06125638918316867), np.float64(-1.4701533403960534), np.float64(0.8269612539727798), np.float64(1.2863841728465464)]\n"
          ]
        }
      ]
    },
    {
      "cell_type": "code",
      "source": [
        "#> Compare two datasets using their standard deviations?\n",
        "import numpy as np\n",
        "data1 = [25, 30, 20, 35, 38]\n",
        "data2 = [51, 61, 30, 37, 40]\n",
        "std1 = np.std(data1)\n",
        "std2 = np.std(data2)\n",
        "print(std1)\n",
        "print(std2)\n",
        "\n",
        "\n"
      ],
      "metadata": {
        "colab": {
          "base_uri": "https://localhost:8080/"
        },
        "id": "h_EhOOIMz_NP",
        "outputId": "2f20dcb6-648b-4205-b2dc-1f3574ca94b6"
      },
      "execution_count": null,
      "outputs": [
        {
          "output_type": "stream",
          "name": "stdout",
          "text": [
            "6.529931086925803\n",
            "10.943491216243562\n"
          ]
        }
      ]
    },
    {
      "cell_type": "code",
      "source": [
        "#Write a Python program to visualize covariance using a heatmap>\n",
        "import numpy as np\n",
        "import seaborn as sns\n",
        "import matplotlib.pyplot as plt\n",
        "data1 = [25, 30, 20, 35, 38]\n",
        "data2 = [51, 61, 30, 37, 40]\n",
        "data = np.array([data1, data2])\n",
        "cov_matrix = np.cov(data)\n",
        "sns.heatmap(cov_matrix, annot=True, cmap='coolwarm')\n",
        "plt.show()\n",
        "\n"
      ],
      "metadata": {
        "colab": {
          "base_uri": "https://localhost:8080/",
          "height": 430
        },
        "id": "9tf9d_rq0cEP",
        "outputId": "4e55e6a8-1bfa-45ed-9874-a3ad64d3ac7e"
      },
      "execution_count": null,
      "outputs": [
        {
          "output_type": "display_data",
          "data": {
            "text/plain": [
              "<Figure size 640x480 with 2 Axes>"
            ],
            "image/png": "[encoded data removed]"
          },
          "metadata": {}
        }
      ]
    },
    {
      "cell_type": "code",
      "source": [
        "# Use seaborn to create a correlation matrix for a dataset?\n",
        "import seaborn as sns\n",
        "import matplotlib.pyplot as plt\n",
        "data = sns.load_dataset('tips')\n",
        "correlation_matrix = data.corr(numeric_only = True)\n",
        "sns.heatmap(correlation_matrix, annot=True, cmap='coolwarm')\n",
        "plt.show()\n",
        "print(data)\n",
        "\n",
        "\n"
      ],
      "metadata": {
        "colab": {
          "base_uri": "https://localhost:8080/",
          "height": 678
        },
        "id": "YmB7fOk61bmz",
        "outputId": "f2bb5fec-cf4b-4db5-8c75-72dbce2f825f"
      },
      "execution_count": null,
      "outputs": [
        {
          "output_type": "display_data",
          "data": {
            "text/plain": [
              "<Figure size 640x480 with 2 Axes>"
            ],
            "image/png": "[encoded data removed]"
          },
          "metadata": {}
        },
        {
          "output_type": "stream",
          "name": "stdout",
          "text": [
            "     total_bill   tip     sex smoker   day    time  size\n",
            "0         16.99  1.01  Female     No   Sun  Dinner     2\n",
            "1         10.34  1.66    Male     No   Sun  Dinner     3\n",
            "2         21.01  3.50    Male     No   Sun  Dinner     3\n",
            "3         23.68  3.31    Male     No   Sun  Dinner     2\n",
            "4         24.59  3.61  Female     No   Sun  Dinner     4\n",
            "..          ...   ...     ...    ...   ...     ...   ...\n",
            "239       29.03  5.92    Male     No   Sat  Dinner     3\n",
            "240       27.18  2.00  Female    Yes   Sat  Dinner     2\n",
            "241       22.67  2.00    Male    Yes   Sat  Dinner     2\n",
            "242       17.82  1.75    Male     No   Sat  Dinner     2\n",
            "243       18.78  3.00  Female     No  Thur  Dinner     2\n",
            "\n",
            "[244 rows x 7 columns]\n"
          ]
        }
      ]
    },
    {
      "cell_type": "code",
      "source": [
        "#Generate a dataset and implement both variance and standard deviation computations?\n",
        "data = [25, 30, 20, 35, 38]\n",
        "import numpy as np\n",
        "np.var(data)\n"
      ],
      "metadata": {
        "colab": {
          "base_uri": "https://localhost:8080/"
        },
        "id": "uxeffkVO1ymk",
        "outputId": "9bbaa72d-88be-4019-a84c-520aa53f21ca"
      },
      "execution_count": null,
      "outputs": [
        {
          "output_type": "execute_result",
          "data": {
            "text/plain": [
              "np.float64(42.64)"
            ]
          },
          "metadata": {},
          "execution_count": 47
        }
      ]
    },
    {
      "cell_type": "code",
      "source": [
        "np.std(data)"
      ],
      "metadata": {
        "colab": {
          "base_uri": "https://localhost:8080/"
        },
        "id": "LQYLiHOK2FfR",
        "outputId": "2125aad2-a8a1-42c2-bb35-2a9685f1a87a"
      },
      "execution_count": null,
      "outputs": [
        {
          "output_type": "execute_result",
          "data": {
            "text/plain": [
              "np.float64(6.529931086925803)"
            ]
          },
          "metadata": {},
          "execution_count": 48
        }
      ]
    },
    {
      "cell_type": "code",
      "source": [
        "#Visualize skewness and kurtosis using Python libraries like matplotlib or seaborn?\n",
        "import matplotlib.pyplot as plt\n",
        "import numpy as np\n",
        "data = [25, 30, 20, 35, 38]\n",
        "plt.hist(data)\n",
        "plt.show()\n"
      ],
      "metadata": {
        "colab": {
          "base_uri": "https://localhost:8080/",
          "height": 430
        },
        "id": "HtePlgdB2JDB",
        "outputId": "9a15d55b-78fd-49a7-e628-ca10fa9bf7c7"
      },
      "execution_count": null,
      "outputs": [
        {
          "output_type": "display_data",
          "data": {
            "text/plain": [
              "<Figure size 640x480 with 1 Axes>"
            ],
            "image/png": "[encoded data removed]"
          },
          "metadata": {}
        }
      ]
    },
    {
      "cell_type": "code",
      "source": [
        "# Implement the Pearson and Spearman correlation coefficients for a dataset.\n",
        "import numpy as np\n",
        "data1 = [25, 30, 20, 35, 38]\n",
        "data2 = [51, 61, 30, 37, 40]\n",
        "corr_pearson = np.corrcoef(data1, data2)[0, 1]\n",
        "corr_spearman = np.corrcoef(np.array(data1), np.array(data2))[0, 1]\n",
        "print(corr_pearson)\n",
        "print(corr_spearman)\n",
        "\n"
      ],
      "metadata": {
        "colab": {
          "base_uri": "https://localhost:8080/"
        },
        "id": "_o0Lvg_S2hSt",
        "outputId": "fbc3c0bf-1e12-4bcd-de3f-6f64a72bde04"
      },
      "execution_count": null,
      "outputs": [
        {
          "output_type": "stream",
          "name": "stdout",
          "text": [
            "0.10523333860168961\n",
            "0.10523333860168961\n"
          ]
        }
      ]
    },
    {
      "cell_type": "code",
      "source": [],
      "metadata": {
        "id": "DE6XBHk6AtmO"
      },
      "execution_count": null,
      "outputs": []
    }
  ]
}